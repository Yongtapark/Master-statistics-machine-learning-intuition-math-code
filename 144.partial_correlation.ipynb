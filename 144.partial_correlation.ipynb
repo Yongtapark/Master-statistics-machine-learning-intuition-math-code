{
 "cells": [
  {
   "cell_type": "code",
   "execution_count": 1,
   "id": "daffcada-16d0-41f4-80ed-5f3130a111a1",
   "metadata": {},
   "outputs": [],
   "source": [
    "import matplotlib.pyplot as plt\n",
    "import numpy as np\n",
    "import pandas as pd\n",
    "import scipy.stats as stats"
   ]
  },
  {
   "cell_type": "code",
   "execution_count": 5,
   "id": "b3217643-d2a5-4670-8cb9-825271815320",
   "metadata": {},
   "outputs": [],
   "source": [
    "import pingouin as pg # 부분상관을 위한 라이브러리"
   ]
  },
  {
   "cell_type": "code",
   "execution_count": 6,
   "id": "4a3eb3f0-80df-4156-a2c9-75bd5529cdfc",
   "metadata": {},
   "outputs": [
    {
     "name": "stdout",
     "output_type": "stream",
     "text": [
      "-0.07647191129018778\n",
      "0.5461186812727504\n"
     ]
    }
   ],
   "source": [
    "## the example from the video\n",
    "\n",
    "# raw correlations\n",
    "rmg = .7\n",
    "rsg = .8\n",
    "rms = .9\n",
    "\n",
    "# partial correlations\n",
    "rho_mg_s = (rmg - rsg*rms) / (np.sqrt(1-rsg**2)*np.sqrt(1-rms**2))\n",
    "rho_sg_m = (rsg - rmg*rms) / (np.sqrt(1-rmg**2)*np.sqrt(1-rms**2))\n",
    "\n",
    "print(rho_mg_s)\n",
    "print(rho_sg_m)"
   ]
  },
  {
   "cell_type": "code",
   "execution_count": 12,
   "id": "57dba843-c1f5-4791-b28e-6ed2bc5c2c37",
   "metadata": {},
   "outputs": [
    {
     "name": "stdout",
     "output_type": "stream",
     "text": [
      "          x1        x2        x3\n",
      "x1  1.000000  0.941551  0.950439\n",
      "x2  0.941551  1.000000  0.906446\n",
      "x3  0.950439  0.906446  1.000000\n",
      "  \n",
      "0.9415512501939381\n",
      " \n",
      "          n         r          CI95%     p-val\n",
      "pearson  76  0.110357  [-0.12, 0.33]  0.345912\n"
     ]
    }
   ],
   "source": [
    "## now for datasets\n",
    "\n",
    "N = 76\n",
    "\n",
    "# correlated datasets\n",
    "x1 = np.linspace(1,10,N) + np.random.randn(N)\n",
    "x2 = x1+np.random.randn(N)\n",
    "x3 = x1+np.random.randn(N)\n",
    "\n",
    "# let's convert theses data to a pandas frame\n",
    "df = pd.DataFrame()\n",
    "df['x1'] = x1\n",
    "df['x2'] = x2\n",
    "df['x3'] = x3\n",
    "\n",
    "# compute the 'raw' correlation matrix\n",
    "cormatR = df.corr()\n",
    "print(cormatR)\n",
    "\n",
    "# print out one value\n",
    "print('  ')\n",
    "print(cormatR.values[1,0])\n",
    "\n",
    "# partial correlation # covar = 우리가 제거하려는 변수\n",
    "# x1, x2 사이의 부분 상관관계를 계산하고 있으며, x3과의 공유된 분산을 제거하고 있음\n",
    "pc = pg.partial_corr(df,x='x1',y='x2',covar='x3')\n",
    "pc = pg.partial_corr(df,x='x3',y='x2',covar='x1')\n",
    "print(' ')\n",
    "print(pc)"
   ]
  },
  {
   "cell_type": "code",
   "execution_count": 15,
   "id": "c47ae06e-ee7a-4d4e-b24c-35e90f165bf8",
   "metadata": {},
   "outputs": [
    {
     "data": {
      "image/png": "[encoded data removed]",
      "text/plain": [
       "<Figure size 600x300 with 2 Axes>"
      ]
     },
     "metadata": {},
     "output_type": "display_data"
    }
   ],
   "source": [
    "# visualize the matrices\n",
    "\n",
    "fig,ax = plt.subplots(1,2,figsize=(6,3))\n",
    "\n",
    "# raw correlations\n",
    "ax[0].imshow(cormatR.values,vmin=-1,vmax=1)\n",
    "ax[0].set_xticks(range(3))\n",
    "ax[0].set_yticks(range(3))\n",
    "\n",
    "# add text\n",
    "for i in range(3):\n",
    "    for j in range(3):\n",
    "        ax[0].text(i,j,np.round(cormatR.values[i,j],2), horizontalalignment= 'center')\n",
    "\n",
    "\n",
    "# partial correlations\n",
    "partialCorMat = df.pcorr()\n",
    "ax[1].imshow(partialCorMat.values,vmin=-1,vmax=1)\n",
    "ax[1].set_xticks(range(3))\n",
    "ax[1].set_yticks(range(3))\n",
    "\n",
    "# 3번째 변수에 기인하는 분산을 제거했을때\n",
    "for i in range(3):\n",
    "    for j in range(3):\n",
    "        ax[1].text(i,j,np.round(partialCorMat.values[i,j],2), horizontalalignment= 'center')\n",
    "\n",
    "plt.show()\n",
    "\n",
    "# 만약, x3를 독립적인 데이터 변경한다면 상관고 부분상관이 거의 비슷함을 관찰할 수 있는데, 이는 x3가 다른 변수들과 공유된 분산이 없기 때문에\n",
    "# 제거한다 해도 큰 차이가 나지 않는다."
   ]
  },
  {
   "cell_type": "code",
   "execution_count": null,
   "id": "c9585c1f-9f2d-4056-8ab4-d4167c93104d",
   "metadata": {},
   "outputs": [],
   "source": []
  }
 ],
 "metadata": {
  "kernelspec": {
   "display_name": "Python 3 (ipykernel)",
   "language": "python",
   "name": "python3"
  },
  "language_info": {
   "codemirror_mode": {
    "name": "ipython",
    "version": 3
   },
   "file_extension": ".py",
   "mimetype": "text/x-python",
   "name": "python",
   "nbconvert_exporter": "python",
   "pygments_lexer": "ipython3",
   "version": "3.10.12"
  }
 },
 "nbformat": 4,
 "nbformat_minor": 5
}
